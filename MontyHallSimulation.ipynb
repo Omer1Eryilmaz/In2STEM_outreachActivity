{
 "cells": [
  {
   "cell_type": "code",
   "execution_count": 1,
   "metadata": {},
   "outputs": [
    {
     "name": "stdout",
     "output_type": "stream",
     "text": [
      "After 10000 trials:\n",
      "Probability of winning if switching: 0.66\n",
      "Probability of winning if staying: 0.34\n"
     ]
    }
   ],
   "source": [
    "import random\n",
    "\n",
    "def simulate_monty_hall(num_trials):\n",
    "    switch_wins = 0\n",
    "    stay_wins = 0\n",
    "\n",
    "    for _ in range(num_trials):\n",
    "        # Randomly place the car behind one of the three doors\n",
    "        doors = [0, 1, 2]\n",
    "        car_door = random.choice(doors)\n",
    "\n",
    "        # Contestant makes a choice\n",
    "        contestant_choice = random.choice(doors)\n",
    "\n",
    "        # Host opens a door that has a goat and is not the contestant's choice\n",
    "        remaining_doors = [door for door in doors if door != contestant_choice and door != car_door]\n",
    "        host_opened_door = random.choice(remaining_doors)\n",
    "\n",
    "        # Determine the other unopened door\n",
    "        unopened_door = [door for door in doors if door != contestant_choice and door != host_opened_door][0]\n",
    "\n",
    "        # Simulate the contestant switching their choice\n",
    "        if unopened_door == car_door:\n",
    "            switch_wins += 1\n",
    "        # Simulate the contestant staying with their initial choice\n",
    "        if contestant_choice == car_door:\n",
    "            stay_wins += 1\n",
    "\n",
    "    switch_win_rate = switch_wins / num_trials\n",
    "    stay_win_rate = stay_wins / num_trials\n",
    "\n",
    "    return switch_win_rate, stay_win_rate\n",
    "\n",
    "def main():\n",
    "    num_trials = 10000\n",
    "    switch_win_rate, stay_win_rate = simulate_monty_hall(num_trials)\n",
    "\n",
    "    print(f\"After {num_trials} trials:\")\n",
    "    print(f\"Probability of winning if switching: {switch_win_rate:.2f}\")\n",
    "    print(f\"Probability of winning if staying: {stay_win_rate:.2f}\")\n",
    "\n",
    "if __name__ == \"__main__\":\n",
    "    main()\n"
   ]
  },
  {
   "cell_type": "code",
   "execution_count": 22,
   "metadata": {},
   "outputs": [
    {
     "name": "stdout",
     "output_type": "stream",
     "text": [
      "After 100000 trials the average success is 0.12\n"
     ]
    }
   ],
   "source": [
    "import numpy as np\n",
    "\n",
    "def simulate_pirate_treasure(num_trials):\n",
    "    num_of_query = 8\n",
    "    results = 0\n",
    "    chosen_row = 0\n",
    "    chosen_column = 0\n",
    "    for _ in range(num_trials):\n",
    "        # Initialize the treasure map and set a random treasure location\n",
    "        treasure_map = np.zeros((8, 8), dtype=bool)\n",
    "        treasure_location = (np.random.randint(0, 8), np.random.randint(0, 8))\n",
    "        treasure_map[treasure_location] = True\n",
    "\n",
    "        answer = True\n",
    "        # Check rows\n",
    "        for i in range(num_of_query):\n",
    "            pirate_number = np.random.randint(1, 7)  # Dice numbers from 1 to 6\n",
    "            \n",
    "            dice = np.random.randint(1, 7)\n",
    "            if pirate_number == dice:\n",
    "                answer = treasure_location[0] == i\n",
    "            else:\n",
    "                answer = not (treasure_location[0] == i)\n",
    "                if not answer:\n",
    "                    chosen_row=i\n",
    "                    break  # 5/6 pirate is lying treasure can be on this row, move to check columns\n",
    "\n",
    "        if answer:\n",
    "            # Check columns\n",
    "            for j in range(num_of_query):\n",
    "                pirate_number = np.random.randint(1, 7)  # Dice numbers from 1 to 6\n",
    "                dice = np.random.randint(1, 7)\n",
    "                if pirate_number == dice:\n",
    "                    answer = treasure_location[1] == j\n",
    "                else:\n",
    "                    answer = not (treasure_location[1] == j)\n",
    "                    if not answer:\n",
    "                        chosen_column=j\n",
    "                        break  # Incorrect answer found\n",
    "\n",
    "        if treasure_map[chosen_row, chosen_column]:\n",
    "            result = 1\n",
    "        else:\n",
    "            result = 0\n",
    "        #print(f'answer{answer}')\n",
    "        results += result\n",
    "\n",
    "    print(f'After {num_trials} trials the average success is {results / num_trials:.2f}')\n",
    "\n",
    "def main():\n",
    "    simulate_pirate_treasure(100000)\n",
    "\n",
    "if __name__ == '__main__':\n",
    "    main()\n"
   ]
  },
  {
   "cell_type": "code",
   "execution_count": 20,
   "metadata": {},
   "outputs": [
    {
     "name": "stdout",
     "output_type": "stream",
     "text": [
      "3\n",
      "4\n",
      "3\n",
      "1\n",
      "4\n",
      "2\n",
      "7\n",
      "3\n",
      "1\n",
      "4\n",
      "5\n",
      "2\n",
      "2\n",
      "0\n",
      "1\n",
      "3\n",
      "6\n",
      "7\n",
      "0\n",
      "4\n"
     ]
    }
   ],
   "source": [
    "\n",
    "for i in range(20):\n",
    "    print(np.random.randint(0, 8))\n"
   ]
  },
  {
   "cell_type": "code",
   "execution_count": null,
   "metadata": {},
   "outputs": [],
   "source": []
  }
 ],
 "metadata": {
  "kernelspec": {
   "display_name": "Python 3",
   "language": "python",
   "name": "python3"
  },
  "language_info": {
   "codemirror_mode": {
    "name": "ipython",
    "version": 3
   },
   "file_extension": ".py",
   "mimetype": "text/x-python",
   "name": "python",
   "nbconvert_exporter": "python",
   "pygments_lexer": "ipython3",
   "version": "3.11.9"
  }
 },
 "nbformat": 4,
 "nbformat_minor": 2
}
